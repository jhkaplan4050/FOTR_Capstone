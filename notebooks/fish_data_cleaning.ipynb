{
 "cells": [
  {
   "cell_type": "code",
   "execution_count": 25,
   "id": "308fa55d-7e75-42df-a902-8545a287e1e4",
   "metadata": {},
   "outputs": [],
   "source": [
    "# import needed packages\n",
    "import pandas as pd\n",
    "import string"
   ]
  },
  {
   "cell_type": "code",
   "execution_count": 26,
   "id": "a14aaaa7-fbca-4a79-b27e-ad3ec5df4a97",
   "metadata": {},
   "outputs": [
    {
     "data": {
      "text/html": [
       "<div>\n",
       "<style scoped>\n",
       "    .dataframe tbody tr th:only-of-type {\n",
       "        vertical-align: middle;\n",
       "    }\n",
       "\n",
       "    .dataframe tbody tr th {\n",
       "        vertical-align: top;\n",
       "    }\n",
       "\n",
       "    .dataframe thead th {\n",
       "        text-align: right;\n",
       "    }\n",
       "</style>\n",
       "<table border=\"1\" class=\"dataframe\">\n",
       "  <thead>\n",
       "    <tr style=\"text-align: right;\">\n",
       "      <th></th>\n",
       "      <th>FIELDID</th>\n",
       "      <th>Latitude</th>\n",
       "      <th>Longitude</th>\n",
       "      <th>Date and Time</th>\n",
       "      <th>Common Name</th>\n",
       "      <th>Quantity</th>\n",
       "    </tr>\n",
       "  </thead>\n",
       "  <tbody>\n",
       "    <tr>\n",
       "      <th>0</th>\n",
       "      <td>Low4</td>\n",
       "      <td>42.286604</td>\n",
       "      <td>-83.475661</td>\n",
       "      <td>8/25/2015</td>\n",
       "      <td>Gizzard shad</td>\n",
       "      <td>1</td>\n",
       "    </tr>\n",
       "    <tr>\n",
       "      <th>1</th>\n",
       "      <td>Low9</td>\n",
       "      <td>42.283461</td>\n",
       "      <td>-83.505311</td>\n",
       "      <td>8/22/2016</td>\n",
       "      <td>Gizzard shad</td>\n",
       "      <td>9</td>\n",
       "    </tr>\n",
       "    <tr>\n",
       "      <th>2</th>\n",
       "      <td>Low11</td>\n",
       "      <td>42.297215</td>\n",
       "      <td>-83.525437</td>\n",
       "      <td>8/22/2016</td>\n",
       "      <td>Gizzard shad</td>\n",
       "      <td>11</td>\n",
       "    </tr>\n",
       "  </tbody>\n",
       "</table>\n",
       "</div>"
      ],
      "text/plain": [
       "  FIELDID   Latitude  Longitude Date and Time   Common Name  Quantity\n",
       "0    Low4  42.286604 -83.475661     8/25/2015  Gizzard shad         1\n",
       "1    Low9  42.283461 -83.505311     8/22/2016  Gizzard shad         9\n",
       "2   Low11  42.297215 -83.525437     8/22/2016  Gizzard shad        11"
      ]
     },
     "execution_count": 26,
     "metadata": {},
     "output_type": "execute_result"
    }
   ],
   "source": [
    "# load fish data\n",
    "fish = pd.read_csv('../original_data/FISH.csv')\n",
    "# fish dataframe\n",
    "fish.head(3)"
   ]
  },
  {
   "cell_type": "code",
   "execution_count": 27,
   "id": "5d33bd5a-d35a-4038-b094-6910e94e34cc",
   "metadata": {},
   "outputs": [],
   "source": [
    "# Capitalize common name words for easier merging\n",
    "fish['Common Name'] = fish['Common Name'].apply(lambda x: string.capwords(x))"
   ]
  },
  {
   "cell_type": "code",
   "execution_count": 30,
   "id": "adedcc82-a78b-4cc6-9866-2cbb17b52560",
   "metadata": {},
   "outputs": [
    {
     "data": {
      "text/html": [
       "<div>\n",
       "<style scoped>\n",
       "    .dataframe tbody tr th:only-of-type {\n",
       "        vertical-align: middle;\n",
       "    }\n",
       "\n",
       "    .dataframe tbody tr th {\n",
       "        vertical-align: top;\n",
       "    }\n",
       "\n",
       "    .dataframe thead th {\n",
       "        text-align: right;\n",
       "    }\n",
       "</style>\n",
       "<table border=\"1\" class=\"dataframe\">\n",
       "  <thead>\n",
       "    <tr style=\"text-align: right;\">\n",
       "      <th></th>\n",
       "      <th>Common Name</th>\n",
       "      <th>Category</th>\n",
       "    </tr>\n",
       "  </thead>\n",
       "  <tbody>\n",
       "    <tr>\n",
       "      <th>0</th>\n",
       "      <td>Sea Lamprey</td>\n",
       "      <td>Intolerant</td>\n",
       "    </tr>\n",
       "    <tr>\n",
       "      <th>1</th>\n",
       "      <td>Silver Lamprey</td>\n",
       "      <td>Intolerant</td>\n",
       "    </tr>\n",
       "    <tr>\n",
       "      <th>2</th>\n",
       "      <td>Northern Brook Lamprey</td>\n",
       "      <td>Intolerant</td>\n",
       "    </tr>\n",
       "  </tbody>\n",
       "</table>\n",
       "</div>"
      ],
      "text/plain": [
       "              Common Name    Category\n",
       "0             Sea Lamprey  Intolerant\n",
       "1          Silver Lamprey  Intolerant\n",
       "2  Northern Brook Lamprey  Intolerant"
      ]
     },
     "execution_count": 30,
     "metadata": {},
     "output_type": "execute_result"
    }
   ],
   "source": [
    "# load species data\n",
    "species = pd.read_csv('../P51_SPECIES.csv')\n",
    "# species dataframe\n",
    "species.head(3)"
   ]
  },
  {
   "cell_type": "code",
   "execution_count": 31,
   "id": "5d44a158-6f40-4b62-9c96-0e0f2da345f0",
   "metadata": {},
   "outputs": [],
   "source": [
    "# merge data\n",
    "combined = fish.merge(species, how='left', on='Common Name')"
   ]
  },
  {
   "cell_type": "code",
   "execution_count": 32,
   "id": "965bd63c-4f27-4a66-887d-fea2956f9526",
   "metadata": {},
   "outputs": [
    {
     "data": {
      "text/html": [
       "<div>\n",
       "<style scoped>\n",
       "    .dataframe tbody tr th:only-of-type {\n",
       "        vertical-align: middle;\n",
       "    }\n",
       "\n",
       "    .dataframe tbody tr th {\n",
       "        vertical-align: top;\n",
       "    }\n",
       "\n",
       "    .dataframe thead th {\n",
       "        text-align: right;\n",
       "    }\n",
       "</style>\n",
       "<table border=\"1\" class=\"dataframe\">\n",
       "  <thead>\n",
       "    <tr style=\"text-align: right;\">\n",
       "      <th></th>\n",
       "      <th>FIELDID</th>\n",
       "      <th>Latitude</th>\n",
       "      <th>Longitude</th>\n",
       "      <th>Date and Time</th>\n",
       "      <th>Common Name</th>\n",
       "      <th>Quantity</th>\n",
       "      <th>Category</th>\n",
       "    </tr>\n",
       "  </thead>\n",
       "  <tbody>\n",
       "    <tr>\n",
       "      <th>0</th>\n",
       "      <td>Low4</td>\n",
       "      <td>42.286604</td>\n",
       "      <td>-83.475661</td>\n",
       "      <td>8/25/2015</td>\n",
       "      <td>Gizzard Shad</td>\n",
       "      <td>1</td>\n",
       "      <td>NaN</td>\n",
       "    </tr>\n",
       "    <tr>\n",
       "      <th>1</th>\n",
       "      <td>Low9</td>\n",
       "      <td>42.283461</td>\n",
       "      <td>-83.505311</td>\n",
       "      <td>8/22/2016</td>\n",
       "      <td>Gizzard Shad</td>\n",
       "      <td>9</td>\n",
       "      <td>NaN</td>\n",
       "    </tr>\n",
       "    <tr>\n",
       "      <th>2</th>\n",
       "      <td>Low11</td>\n",
       "      <td>42.297215</td>\n",
       "      <td>-83.525437</td>\n",
       "      <td>8/22/2016</td>\n",
       "      <td>Gizzard Shad</td>\n",
       "      <td>11</td>\n",
       "      <td>NaN</td>\n",
       "    </tr>\n",
       "  </tbody>\n",
       "</table>\n",
       "</div>"
      ],
      "text/plain": [
       "  FIELDID   Latitude  Longitude Date and Time   Common Name  Quantity Category\n",
       "0    Low4  42.286604 -83.475661     8/25/2015  Gizzard Shad         1      NaN\n",
       "1    Low9  42.283461 -83.505311     8/22/2016  Gizzard Shad         9      NaN\n",
       "2   Low11  42.297215 -83.525437     8/22/2016  Gizzard Shad        11      NaN"
      ]
     },
     "execution_count": 32,
     "metadata": {},
     "output_type": "execute_result"
    }
   ],
   "source": [
    "# merged dataframe, now containing fish info and category\n",
    "combined.head(3)"
   ]
  },
  {
   "cell_type": "code",
   "execution_count": 22,
   "id": "0385d49f-3cf1-4545-928d-29d2e56af66e",
   "metadata": {},
   "outputs": [],
   "source": [
    "# save to new csv \n",
    "####### NEED TO FIGURE OUT HOW TO SAVE IN DIFF FOLDER #######\n",
    "combined.to_csv('SPECIES_FISH.csv')  "
   ]
  },
  {
   "cell_type": "code",
   "execution_count": null,
   "id": "f0f3e9c0-9116-4b9b-aeed-e359bbd19f05",
   "metadata": {},
   "outputs": [],
   "source": []
  },
  {
   "cell_type": "code",
   "execution_count": null,
   "id": "5f78f85a-07b9-4222-a869-b5ba3aa4343b",
   "metadata": {},
   "outputs": [],
   "source": []
  },
  {
   "cell_type": "code",
   "execution_count": 33,
   "id": "1b80e585-42a7-47ba-bd4a-e8a074f35b65",
   "metadata": {},
   "outputs": [],
   "source": [
    "# Next, reorganize combined dataframe for specific visualizations"
   ]
  },
  {
   "cell_type": "code",
   "execution_count": 66,
   "id": "d99ebf6b-4517-4122-a980-2963774c94ae",
   "metadata": {},
   "outputs": [
    {
     "data": {
      "text/html": [
       "<div>\n",
       "<style scoped>\n",
       "    .dataframe tbody tr th:only-of-type {\n",
       "        vertical-align: middle;\n",
       "    }\n",
       "\n",
       "    .dataframe tbody tr th {\n",
       "        vertical-align: top;\n",
       "    }\n",
       "\n",
       "    .dataframe thead th {\n",
       "        text-align: right;\n",
       "    }\n",
       "</style>\n",
       "<table border=\"1\" class=\"dataframe\">\n",
       "  <thead>\n",
       "    <tr style=\"text-align: right;\">\n",
       "      <th></th>\n",
       "      <th>FIELDID</th>\n",
       "      <th>Latitude</th>\n",
       "      <th>Longitude</th>\n",
       "      <th>Date and Time</th>\n",
       "      <th>Common Name</th>\n",
       "      <th>Quantity</th>\n",
       "      <th>Category</th>\n",
       "    </tr>\n",
       "  </thead>\n",
       "  <tbody>\n",
       "    <tr>\n",
       "      <th>0</th>\n",
       "      <td>Low4</td>\n",
       "      <td>42.286604</td>\n",
       "      <td>-83.475661</td>\n",
       "      <td>8/25/2015</td>\n",
       "      <td>Gizzard Shad</td>\n",
       "      <td>1</td>\n",
       "      <td>NaN</td>\n",
       "    </tr>\n",
       "    <tr>\n",
       "      <th>1</th>\n",
       "      <td>Low9</td>\n",
       "      <td>42.283461</td>\n",
       "      <td>-83.505311</td>\n",
       "      <td>8/22/2016</td>\n",
       "      <td>Gizzard Shad</td>\n",
       "      <td>9</td>\n",
       "      <td>NaN</td>\n",
       "    </tr>\n",
       "    <tr>\n",
       "      <th>2</th>\n",
       "      <td>Low11</td>\n",
       "      <td>42.297215</td>\n",
       "      <td>-83.525437</td>\n",
       "      <td>8/22/2016</td>\n",
       "      <td>Gizzard Shad</td>\n",
       "      <td>11</td>\n",
       "      <td>NaN</td>\n",
       "    </tr>\n",
       "  </tbody>\n",
       "</table>\n",
       "</div>"
      ],
      "text/plain": [
       "  FIELDID   Latitude  Longitude Date and Time   Common Name  Quantity Category\n",
       "0    Low4  42.286604 -83.475661     8/25/2015  Gizzard Shad         1      NaN\n",
       "1    Low9  42.283461 -83.505311     8/22/2016  Gizzard Shad         9      NaN\n",
       "2   Low11  42.297215 -83.525437     8/22/2016  Gizzard Shad        11      NaN"
      ]
     },
     "execution_count": 66,
     "metadata": {},
     "output_type": "execute_result"
    }
   ],
   "source": [
    "combined.head(3)"
   ]
  },
  {
   "cell_type": "code",
   "execution_count": 67,
   "id": "46f62efb-660a-494e-9bf8-56b4147a5fca",
   "metadata": {},
   "outputs": [
    {
     "data": {
      "text/html": [
       "<div>\n",
       "<style scoped>\n",
       "    .dataframe tbody tr th:only-of-type {\n",
       "        vertical-align: middle;\n",
       "    }\n",
       "\n",
       "    .dataframe tbody tr th {\n",
       "        vertical-align: top;\n",
       "    }\n",
       "\n",
       "    .dataframe thead th {\n",
       "        text-align: right;\n",
       "    }\n",
       "</style>\n",
       "<table border=\"1\" class=\"dataframe\">\n",
       "  <thead>\n",
       "    <tr style=\"text-align: right;\">\n",
       "      <th></th>\n",
       "      <th>FIELDID</th>\n",
       "      <th>Common Name</th>\n",
       "    </tr>\n",
       "  </thead>\n",
       "  <tbody>\n",
       "    <tr>\n",
       "      <th>0</th>\n",
       "      <td>Bell1</td>\n",
       "      <td>10</td>\n",
       "    </tr>\n",
       "    <tr>\n",
       "      <th>1</th>\n",
       "      <td>Bell4</td>\n",
       "      <td>10</td>\n",
       "    </tr>\n",
       "    <tr>\n",
       "      <th>2</th>\n",
       "      <td>Bish2</td>\n",
       "      <td>11</td>\n",
       "    </tr>\n",
       "  </tbody>\n",
       "</table>\n",
       "</div>"
      ],
      "text/plain": [
       "  FIELDID  Common Name\n",
       "0   Bell1           10\n",
       "1   Bell4           10\n",
       "2   Bish2           11"
      ]
     },
     "execution_count": 67,
     "metadata": {},
     "output_type": "execute_result"
    }
   ],
   "source": [
    "# group dataframe by field and count number of species\n",
    "species_per_field = combined.groupby(['FIELDID'], as_index=False)['Common Name'].nunique()\n",
    "species_per_field.head(3)"
   ]
  },
  {
   "cell_type": "code",
   "execution_count": 68,
   "id": "ade07ef0-0216-4a80-af75-46c3653a48c1",
   "metadata": {},
   "outputs": [],
   "source": [
    "# save to new csv \n",
    "####### NEED TO FIGURE OUT HOW TO SAVE IN DIFF FOLDER #######\n",
    "combined.to_csv('SPECIES_PER_FIELD.csv')  "
   ]
  },
  {
   "cell_type": "code",
   "execution_count": null,
   "id": "5ff8b30e-e703-413f-be5d-044137a58ba3",
   "metadata": {},
   "outputs": [],
   "source": []
  }
 ],
 "metadata": {
  "kernelspec": {
   "display_name": "Python 3",
   "language": "python",
   "name": "python3"
  },
  "language_info": {
   "codemirror_mode": {
    "name": "ipython",
    "version": 3
   },
   "file_extension": ".py",
   "mimetype": "text/x-python",
   "name": "python",
   "nbconvert_exporter": "python",
   "pygments_lexer": "ipython3",
   "version": "3.8.8"
  }
 },
 "nbformat": 4,
 "nbformat_minor": 5
}
